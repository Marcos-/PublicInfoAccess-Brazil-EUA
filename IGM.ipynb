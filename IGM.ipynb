{
 "cells": [
  {
   "cell_type": "code",
   "execution_count": 1,
   "id": "cf5d6326-feee-46fc-9f98-da4a44feb3c6",
   "metadata": {},
   "outputs": [
    {
     "name": "stdout",
     "output_type": "stream",
     "text": [
      "Requirement already satisfied: langchain-community in /usr/local/lib/python3.10/site-packages (0.0.20)\n",
      "Requirement already satisfied: PyYAML>=5.3 in /usr/local/lib/python3.10/site-packages (from langchain-community) (6.0.1)\n",
      "Requirement already satisfied: SQLAlchemy<3,>=1.4 in /usr/local/lib/python3.10/site-packages (from langchain-community) (2.0.23)\n",
      "Requirement already satisfied: aiohttp<4.0.0,>=3.8.3 in /usr/local/lib/python3.10/site-packages (from langchain-community) (3.8.6)\n",
      "Requirement already satisfied: dataclasses-json<0.7,>=0.5.7 in /usr/local/lib/python3.10/site-packages (from langchain-community) (0.5.14)\n",
      "Requirement already satisfied: langchain-core<0.2,>=0.1.21 in /usr/local/lib/python3.10/site-packages (from langchain-community) (0.1.23)\n",
      "Requirement already satisfied: langsmith<0.1,>=0.0.83 in /usr/local/lib/python3.10/site-packages (from langchain-community) (0.0.87)\n",
      "Requirement already satisfied: numpy<2,>=1 in /usr/local/lib/python3.10/site-packages (from langchain-community) (1.23.5)\n",
      "Requirement already satisfied: requests<3,>=2 in /usr/local/lib/python3.10/site-packages (from langchain-community) (2.31.0)\n",
      "Requirement already satisfied: tenacity<9.0.0,>=8.1.0 in /usr/local/lib/python3.10/site-packages (from langchain-community) (8.2.3)\n",
      "Requirement already satisfied: attrs>=17.3.0 in /usr/local/lib/python3.10/site-packages (from aiohttp<4.0.0,>=3.8.3->langchain-community) (23.1.0)\n",
      "Requirement already satisfied: charset-normalizer<4.0,>=2.0 in /usr/local/lib/python3.10/site-packages (from aiohttp<4.0.0,>=3.8.3->langchain-community) (3.2.0)\n",
      "Requirement already satisfied: multidict<7.0,>=4.5 in /usr/local/lib/python3.10/site-packages (from aiohttp<4.0.0,>=3.8.3->langchain-community) (6.0.4)\n",
      "Requirement already satisfied: async-timeout<5.0,>=4.0.0a3 in /usr/local/lib/python3.10/site-packages (from aiohttp<4.0.0,>=3.8.3->langchain-community) (4.0.3)\n",
      "Requirement already satisfied: yarl<2.0,>=1.0 in /usr/local/lib/python3.10/site-packages (from aiohttp<4.0.0,>=3.8.3->langchain-community) (1.9.2)\n",
      "Requirement already satisfied: frozenlist>=1.1.1 in /usr/local/lib/python3.10/site-packages (from aiohttp<4.0.0,>=3.8.3->langchain-community) (1.4.0)\n",
      "Requirement already satisfied: aiosignal>=1.1.2 in /usr/local/lib/python3.10/site-packages (from aiohttp<4.0.0,>=3.8.3->langchain-community) (1.3.1)\n",
      "Requirement already satisfied: marshmallow<4.0.0,>=3.18.0 in /usr/local/lib/python3.10/site-packages (from dataclasses-json<0.7,>=0.5.7->langchain-community) (3.20.1)\n",
      "Requirement already satisfied: typing-inspect<1,>=0.4.0 in /usr/local/lib/python3.10/site-packages (from dataclasses-json<0.7,>=0.5.7->langchain-community) (0.9.0)\n",
      "Requirement already satisfied: anyio<5,>=3 in /usr/local/lib/python3.10/site-packages (from langchain-core<0.2,>=0.1.21->langchain-community) (3.7.1)\n",
      "Requirement already satisfied: jsonpatch<2.0,>=1.33 in /usr/local/lib/python3.10/site-packages (from langchain-core<0.2,>=0.1.21->langchain-community) (1.33)\n",
      "Requirement already satisfied: packaging<24.0,>=23.2 in /usr/local/lib/python3.10/site-packages (from langchain-core<0.2,>=0.1.21->langchain-community) (23.2)\n",
      "Requirement already satisfied: pydantic<3,>=1 in /usr/local/lib/python3.10/site-packages (from langchain-core<0.2,>=0.1.21->langchain-community) (2.3.0)\n",
      "Requirement already satisfied: idna<4,>=2.5 in /usr/local/lib/python3.10/site-packages (from requests<3,>=2->langchain-community) (3.4)\n",
      "Requirement already satisfied: urllib3<3,>=1.21.1 in /usr/local/lib/python3.10/site-packages (from requests<3,>=2->langchain-community) (2.0.4)\n",
      "Requirement already satisfied: certifi>=2017.4.17 in /usr/local/lib/python3.10/site-packages (from requests<3,>=2->langchain-community) (2023.7.22)\n",
      "Requirement already satisfied: typing-extensions>=4.2.0 in /usr/local/lib/python3.10/site-packages (from SQLAlchemy<3,>=1.4->langchain-community) (4.8.0)\n",
      "Requirement already satisfied: greenlet!=0.4.17 in /usr/local/lib/python3.10/site-packages (from SQLAlchemy<3,>=1.4->langchain-community) (3.0.1)\n",
      "Requirement already satisfied: sniffio>=1.1 in /usr/local/lib/python3.10/site-packages (from anyio<5,>=3->langchain-core<0.2,>=0.1.21->langchain-community) (1.3.0)\n",
      "Requirement already satisfied: exceptiongroup in /usr/local/lib/python3.10/site-packages (from anyio<5,>=3->langchain-core<0.2,>=0.1.21->langchain-community) (1.1.3)\n",
      "Requirement already satisfied: jsonpointer>=1.9 in /usr/local/lib/python3.10/site-packages (from jsonpatch<2.0,>=1.33->langchain-core<0.2,>=0.1.21->langchain-community) (2.4)\n",
      "Requirement already satisfied: annotated-types>=0.4.0 in /usr/local/lib/python3.10/site-packages (from pydantic<3,>=1->langchain-core<0.2,>=0.1.21->langchain-community) (0.5.0)\n",
      "Requirement already satisfied: pydantic-core==2.6.3 in /usr/local/lib/python3.10/site-packages (from pydantic<3,>=1->langchain-core<0.2,>=0.1.21->langchain-community) (2.6.3)\n",
      "Requirement already satisfied: mypy-extensions>=0.3.0 in /usr/local/lib/python3.10/site-packages (from typing-inspect<1,>=0.4.0->dataclasses-json<0.7,>=0.5.7->langchain-community) (1.0.0)\n",
      "\n",
      "\u001b[1m[\u001b[0m\u001b[34;49mnotice\u001b[0m\u001b[1;39;49m]\u001b[0m\u001b[39;49m A new release of pip is available: \u001b[0m\u001b[31;49m23.3.1\u001b[0m\u001b[39;49m -> \u001b[0m\u001b[32;49m24.0\u001b[0m\n",
      "\u001b[1m[\u001b[0m\u001b[34;49mnotice\u001b[0m\u001b[1;39;49m]\u001b[0m\u001b[39;49m To update, run: \u001b[0m\u001b[32;49mpython3.10 -m pip install --upgrade pip\u001b[0m\n",
      "Note: you may need to restart the kernel to use updated packages.\n"
     ]
    }
   ],
   "source": [
    "pip install langchain-community"
   ]
  },
  {
   "cell_type": "code",
   "execution_count": 2,
   "id": "b41dfbdd-0237-456f-a7ff-2da2b9c1ccbc",
   "metadata": {},
   "outputs": [],
   "source": [
    "from langchain_community.llms import Ollama"
   ]
  },
  {
   "cell_type": "code",
   "execution_count": 3,
   "id": "f4ae45ad-f5e8-4d37-b5d7-9db9a3b86827",
   "metadata": {},
   "outputs": [],
   "source": [
    "llm = Ollama(model=\"igm_llama\")"
   ]
  },
  {
   "cell_type": "code",
   "execution_count": 4,
   "id": "a2b21bf7-243a-491b-970d-97aef192696d",
   "metadata": {},
   "outputs": [
    {
     "data": {
      "text/plain": [
       "'Q2: Private-Political'"
      ]
     },
     "execution_count": 4,
     "metadata": {},
     "output_type": "execute_result"
    }
   ],
   "source": [
    "llm.invoke(\"\"\"Can you respond an appropriate category to the following input. Respond with one of the following categories: Q1: Public-Political; Q2: Private-Political; Q3: Public-Nonpolitical; Q4: Private-Nonpolitical. Your answear should have less than 3 words.\n",
    "            Example:\n",
    "                caro dnit vai continuar a execução da _br_ 080 de são do araguaia goiás a uruaçu goiás que tem muitas obras que ficaram em falta por _exemplo_ de são do araguaia indo pra bonopolis faltou a construção da ponte sobre o riopintado _e_ depois faltou uma área do incra para indenizar os poceiros _e_ depois tem uma _parte_ dela que estar depois do povoado de fricolandia com a continuação da rodovia que chega até uma mineração que fica na _cidade_ de alto horizonte goiás a pavimentação asfáltica vai continuar ou infelizmente _não_ a previsão da continuação asfáltica da _br_ 080 de são do araguaia goiás a uruaçu goiás = Q1\n",
    "                estou realizando _pesquisa_ benchmarking para construção de manual de processo _e_ recursos administrativos no órgão que trabalho _e_ gostaria de saber _se_ há na agência algum _documento_ incluindo resoluções portarias _orientações_ de serviços que oriente _e_ discipline o caminho das petições na agência incluindo prazos de manifestações recursos instâncias administrativas _momento_ _e_ _possibilidade_ de juntadas de _documentos_ repositóriode decisões para _consulta_ entre outros que dispuserem a temática é referente a organização de processo _e_ procedimentos administrativos principalmente voltado para recursos administrativos na agência portanto além da _lei_ 9784 99 solicito o _envio_ de quaisquer _documentos_ voltados ao _tema_ _se_ existentes na agência muito obrigada = Q2\n",
    "                _boa_ _tarde_ para fins_acadêmicos gostaria de saber as seguintes _informações_ da universidade 1 nome _número_ de bolsas de _pesquisa_ _e_ extensão destinadas à graduação em perspectiva histórica _dados_ em linha histórica com uma maior abrangência possível preferencialmente 2006 atualidade 2 áreas de _pesquisa_ _e_ _número_ de bolsistas inseridos 3 orçamento anual da universidade liquidado em perspectiva histórica 1994 atualidade 4 percentual destinado às bolsas de _pesquisa_ em perspectiva histórica 2006 atualidade 5 _número_ de trabalhos de conclusão de curso produzidos por semestre na universidade 2012 atualidade 6 _número_ de pequisas produzidas graduação pós_graduação mestrado _e_ doutorado na universidade por área de estudo = Q3\n",
    "                olá sou osvaldo valarini junior possuo graduação em bacharel em engenheiro química 2012 licenciatura em química 2019 especialização em engenharia de segurança_do_trabalho 2015 mestrado em engenharia química 2016 _e_ doutorado em engenharia química 2019 fui aprovado no concurso do instituto_federal de educação ciência _e_ tecnologia goiano edital n 33 de 13 de _dezembro_ de 2018 homologação do resultado concurso_público para provimento de cargos de professor do ensino básico técnico _e_ tecnológico na área de engenharia de alimentos _i_ sub_área_ termodinâmica operações unitárias _i_ _e_ _ii_ bioengenharia sou o próximo da lista a ser chamado pois a _segunda_ colocada passou na universidade a qual fazia pós doutorado portanto _caso_ tenha um _código_ de vaga aberto em alguma dessas áreas gostaria de ser aproveitado = Q4\n",
    "            Input:\n",
    "                prezados _senhores_ _boa_ _tarde_ em 18 03 2018 o ministérioda infraestrutura publicou o edital de chamamento n 2 2019 tendo por objeto a elaboração dos estudos técnicos que subsidiem a modelagem da concessão para expansão exploração _e_ manutenção dos seguintes aeroportos aeroporto de foz do iguaçu pr cataratas aeroporto de navegantes sc ministro victor konder aeroporto de londrina pr governador _josé_ richa aeroporto de joinville sc lauro carneiro de loyola sbbi aeroporto bacacheri pr sbpk aeroporto de pelotas rs sbug aeroporto de uruguaiana rs rubem berta aeroporto de bagé rs comandante gustavo kraemer aeroporto internacional de manaus am eduardo _gomes_ aeroporto de porto velho ro governador jorge de aeroporto de riobranco ac plácido de castro aeroporto de cruzeiro do sul ac aeroporto de tabatinga am aeroporto de tefé am aeroporto de _boa_ vista rr atlas _brasil_ cantanhede aeroporto de goiânia go santa genoveva aeroporto de são luís ma marechal aeroporto de teresina pi senador petrônio portella aeroporto de palmas to brigadeiro lysias rodrigues aeroporto de petrolina pe senador nilo coelho aeroporto de imperatriz ma prefeito renato moreira nesse _sentido_ requer seja informado todas as visitas técnicas realizadas nos referidos aeroportos no _período_ dos 12 _meses_ que antecederam o _envio_ do _presente_ pedido ou seja requer _informações_ referes às visitas realizadas nos aeroportos desde _agosto_ de 2018 até a _presente_ _data_ para a disponibilização da _informação_ solicitada requer sejam fornecidos os seguintes elementos _i_ nome da pessoa que realizou a visita técnica _ii_ empresa a qual a pessoa está vinculada _iii_ _data_ de realização da visita _iv_ aeroporto objeto da visita v objeto da visita _se_ apenas vistoria ou _se_ realizou outros estudos como ensaios geotécnicos desde já agradecemos o _envio_ das _informações_ requeridas atenciosamente\"\"\")"
   ]
  },
  {
   "cell_type": "code",
   "execution_count": 5,
   "id": "6648bac4-e31f-4eeb-bce2-bc52901ccf13",
   "metadata": {},
   "outputs": [
    {
     "data": {
      "text/plain": [
       "'Based on the information provided in the Input, I would score it as a 6 (Baixa) in terms of individuality. The document appears to be a standardized form for collecting information about technical visits to various airports in Brazil. It requests specific details about the person who conducted the visit, their company, the date of the visit, and the purpose of the visit. This level of detail suggests that the form is designed for a collective purpose, rather than an individual one.'"
      ]
     },
     "execution_count": 5,
     "metadata": {},
     "output_type": "execute_result"
    }
   ],
   "source": [
    "llm.invoke(\"\"\" Judge the input bellow based on the following index where 1 is more individual and 10 is more collective.\n",
    "                1 Extremamente Baixa\n",
    "                2 Muito Baixa\n",
    "                3 Relativamente Baixa\n",
    "                4 Moderadamente Baixa\n",
    "                6 Baixa\n",
    "                7 Alta\n",
    "                8 Moderadamente Alta\n",
    "                9 Muito Alta\n",
    "                10 Extremamente Alta\n",
    "            Input:\n",
    "                prezados _senhores_ _boa_ _tarde_ em 18 03 2018 o ministérioda infraestrutura publicou o edital de chamamento n 2 2019 tendo por objeto a elaboração dos estudos técnicos que subsidiem a modelagem da concessão para expansão exploração _e_ manutenção dos seguintes aeroportos aeroporto de foz do iguaçu pr cataratas aeroporto de navegantes sc ministro victor konder aeroporto de londrina pr governador _josé_ richa aeroporto de joinville sc lauro carneiro de loyola sbbi aeroporto bacacheri pr sbpk aeroporto de pelotas rs sbug aeroporto de uruguaiana rs rubem berta aeroporto de bagé rs comandante gustavo kraemer aeroporto internacional de manaus am eduardo _gomes_ aeroporto de porto velho ro governador jorge de aeroporto de riobranco ac plácido de castro aeroporto de cruzeiro do sul ac aeroporto de tabatinga am aeroporto de tefé am aeroporto de _boa_ vista rr atlas _brasil_ cantanhede aeroporto de goiânia go santa genoveva aeroporto de são luís ma marechal aeroporto de teresina pi senador petrônio portella aeroporto de palmas to brigadeiro lysias rodrigues aeroporto de petrolina pe senador nilo coelho aeroporto de imperatriz ma prefeito renato moreira nesse _sentido_ requer seja informado todas as visitas técnicas realizadas nos referidos aeroportos no _período_ dos 12 _meses_ que antecederam o _envio_ do _presente_ pedido ou seja requer _informações_ referes às visitas realizadas nos aeroportos desde _agosto_ de 2018 até a _presente_ _data_ para a disponibilização da _informação_ solicitada requer sejam fornecidos os seguintes elementos _i_ nome da pessoa que realizou a visita técnica _ii_ empresa a qual a pessoa está vinculada _iii_ _data_ de realização da visita _iv_ aeroporto objeto da visita v objeto da visita _se_ apenas vistoria ou _se_ realizou outros estudos como ensaios geotécnicos desde já agradecemos o _envio_ das _informações_ requeridas atenciosamente\"\"\")"
   ]
  },
  {
   "cell_type": "code",
   "execution_count": 4,
   "id": "ced8e9ba-fc94-439c-a366-8973392702ce",
   "metadata": {},
   "outputs": [],
   "source": [
    "import pandas as pd"
   ]
  },
  {
   "cell_type": "code",
   "execution_count": 5,
   "id": "b512564d-6db3-46b2-8879-1fa86c7762fe",
   "metadata": {},
   "outputs": [],
   "source": [
    "from pandas import read_excel"
   ]
  },
  {
   "cell_type": "code",
   "execution_count": 6,
   "id": "89ca9ee0-5fe7-47ae-b061-a9f9300894e8",
   "metadata": {},
   "outputs": [
    {
     "name": "stdout",
     "output_type": "stream",
     "text": [
      "Requirement already satisfied: openpyxl in /usr/local/lib/python3.10/site-packages (3.1.2)\n",
      "Requirement already satisfied: et-xmlfile in /usr/local/lib/python3.10/site-packages (from openpyxl) (1.1.0)\n",
      "\n",
      "\u001b[1m[\u001b[0m\u001b[34;49mnotice\u001b[0m\u001b[1;39;49m]\u001b[0m\u001b[39;49m A new release of pip is available: \u001b[0m\u001b[31;49m23.3.1\u001b[0m\u001b[39;49m -> \u001b[0m\u001b[32;49m24.0\u001b[0m\n",
      "\u001b[1m[\u001b[0m\u001b[34;49mnotice\u001b[0m\u001b[1;39;49m]\u001b[0m\u001b[39;49m To update, run: \u001b[0m\u001b[32;49mpython3.10 -m pip install --upgrade pip\u001b[0m\n",
      "Note: you may need to restart the kernel to use updated packages.\n"
     ]
    }
   ],
   "source": [
    "pip install openpyxl"
   ]
  },
  {
   "cell_type": "code",
   "execution_count": 7,
   "id": "fc7e48cb-79aa-4b1a-9152-78b9aec32e7b",
   "metadata": {},
   "outputs": [],
   "source": [
    "df = read_excel('TeBoLu_amostra_LLM.xlsx')"
   ]
  },
  {
   "cell_type": "code",
   "execution_count": 8,
   "id": "5b396b62-5dc1-46dc-a797-a9ebe7d29da0",
   "metadata": {},
   "outputs": [
    {
     "data": {
      "text/plain": [
       "2144"
      ]
     },
     "execution_count": 8,
     "metadata": {},
     "output_type": "execute_result"
    }
   ],
   "source": [
    "len(df)"
   ]
  },
  {
   "cell_type": "code",
   "execution_count": 29,
   "id": "7566fceb-d71a-4ca1-a99c-3403873ba570",
   "metadata": {},
   "outputs": [],
   "source": [
    "def categorize_text(text, llm):\n",
    "    prompt = \"\"\"Can you respond an appropriate category to the following input. Respond with one of the following categories: Q1: Public-Political; Q2: Private-Political; Q3: Public-Nonpolitical; Q4: Private-Nonpolitical. Your answear should have less than 3 words.\n",
    "            Example:\n",
    "                caro dnit vai continuar a execução da _br_ 080 de são do araguaia goiás a uruaçu goiás que tem muitas obras que ficaram em falta por _exemplo_ de são do araguaia indo pra bonopolis faltou a construção da ponte sobre o riopintado _e_ depois faltou uma área do incra para indenizar os poceiros _e_ depois tem uma _parte_ dela que estar depois do povoado de fricolandia com a continuação da rodovia que chega até uma mineração que fica na _cidade_ de alto horizonte goiás a pavimentação asfáltica vai continuar ou infelizmente _não_ a previsão da continuação asfáltica da _br_ 080 de são do araguaia goiás a uruaçu goiás = Q1\n",
    "                estou realizando _pesquisa_ benchmarking para construção de manual de processo _e_ recursos administrativos no órgão que trabalho _e_ gostaria de saber _se_ há na agência algum _documento_ incluindo resoluções portarias _orientações_ de serviços que oriente _e_ discipline o caminho das petições na agência incluindo prazos de manifestações recursos instâncias administrativas _momento_ _e_ _possibilidade_ de juntadas de _documentos_ repositóriode decisões para _consulta_ entre outros que dispuserem a temática é referente a organização de processo _e_ procedimentos administrativos principalmente voltado para recursos administrativos na agência portanto além da _lei_ 9784 99 solicito o _envio_ de quaisquer _documentos_ voltados ao _tema_ _se_ existentes na agência muito obrigada = Q2\n",
    "                _boa_ _tarde_ para fins_acadêmicos gostaria de saber as seguintes _informações_ da universidade 1 nome _número_ de bolsas de _pesquisa_ _e_ extensão destinadas à graduação em perspectiva histórica _dados_ em linha histórica com uma maior abrangência possível preferencialmente 2006 atualidade 2 áreas de _pesquisa_ _e_ _número_ de bolsistas inseridos 3 orçamento anual da universidade liquidado em perspectiva histórica 1994 atualidade 4 percentual destinado às bolsas de _pesquisa_ em perspectiva histórica 2006 atualidade 5 _número_ de trabalhos de conclusão de curso produzidos por semestre na universidade 2012 atualidade 6 _número_ de pequisas produzidas graduação pós_graduação mestrado _e_ doutorado na universidade por área de estudo = Q3\n",
    "                olá sou osvaldo valarini junior possuo graduação em bacharel em engenheiro química 2012 licenciatura em química 2019 especialização em engenharia de segurança_do_trabalho 2015 mestrado em engenharia química 2016 _e_ doutorado em engenharia química 2019 fui aprovado no concurso do instituto_federal de educação ciência _e_ tecnologia goiano edital n 33 de 13 de _dezembro_ de 2018 homologação do resultado concurso_público para provimento de cargos de professor do ensino básico técnico _e_ tecnológico na área de engenharia de alimentos _i_ sub_área_ termodinâmica operações unitárias _i_ _e_ _ii_ bioengenharia sou o próximo da lista a ser chamado pois a _segunda_ colocada passou na universidade a qual fazia pós doutorado portanto _caso_ tenha um _código_ de vaga aberto em alguma dessas áreas gostaria de ser aproveitado = Q4\n",
    "            Input:\n",
    "        \"\"\"\n",
    "    response = llm.invoke(prompt + str(text))\n",
    "    return response\n",
    "    "
   ]
  },
  {
   "cell_type": "code",
   "execution_count": 9,
   "id": "9c9641d0-2680-4a06-85f8-3c7729ddb27d",
   "metadata": {},
   "outputs": [],
   "source": [
    "def categorize_text(text, llm):\n",
    "    prompt = \"\"\"Can you respond an appropriate category to the following input. Respond with one of the following categories: Q1: Public-Political; Q2: Private-Political; Q3: Public-Nonpolitical; Q4: Private-Nonpolitical. Your answear should have less than 3 words.\n",
    "            Input:\n",
    "        \"\"\"\n",
    "    response = llm.invoke(prompt + str(text))\n",
    "    return response\n",
    "    "
   ]
  },
  {
   "cell_type": "code",
   "execution_count": 35,
   "id": "00f29aa3-afda-4c32-8837-02266157efb0",
   "metadata": {},
   "outputs": [
    {
     "name": "stdout",
     "output_type": "stream",
     "text": [
      "Q2: Private-Political\n"
     ]
    }
   ],
   "source": [
    "print(categorize_text(\"sou engenheiro civil com especialização em rodovias moro na _cidade_ de bom despacho mg ha 2 _anos_ atras tivemos uma reunião na câmara de vereadores com a presença do presidente da antt _e_ o presidente da concessionária concebra para discutir o _andamento_ do contrato de concessão da _br_ 262 o contrato assinado em 2 014 previa 4 _anos_ para a conclusão da duplicação porém apenas uma pequena _parte_ foi executado no triangulo mineiro o que permitiu a concessionária iniciar a cobrança de pedágios até o _presente_ _momento_ a empresa continua paralisada fazendo apenas uma precária manutenção _e_ os acidentes acontecendo _e_ ó cidadão pagando pedágio gostaria de saber _se_ o problema continua sendo a falta do financiamento ou algum outro obstáculo já que o licenciamento ambiental parece estar resolvido o governo_federal antt já tem alguma solução para o _andamento_ deste contrato já que a mp que previa o realinhamento do contrato caducou\", llm))"
   ]
  },
  {
   "cell_type": "code",
   "execution_count": 11,
   "id": "3de5a04e-5356-4451-bf30-66bcbcde33c7",
   "metadata": {},
   "outputs": [],
   "source": [
    "df['validation'] = df[\"pedido\"].apply(lambda x: categorize_text(x, llm))"
   ]
  },
  {
   "cell_type": "code",
   "execution_count": 12,
   "id": "060e5406-d52b-471f-9281-1ff858c4e283",
   "metadata": {},
   "outputs": [
    {
     "data": {
      "text/html": [
       "<div>\n",
       "<style scoped>\n",
       "    .dataframe tbody tr th:only-of-type {\n",
       "        vertical-align: middle;\n",
       "    }\n",
       "\n",
       "    .dataframe tbody tr th {\n",
       "        vertical-align: top;\n",
       "    }\n",
       "\n",
       "    .dataframe thead th {\n",
       "        text-align: right;\n",
       "    }\n",
       "</style>\n",
       "<table border=\"1\" class=\"dataframe\">\n",
       "  <thead>\n",
       "    <tr style=\"text-align: right;\">\n",
       "      <th></th>\n",
       "      <th>C</th>\n",
       "      <th>pedido</th>\n",
       "      <th>cluster</th>\n",
       "      <th>validation</th>\n",
       "    </tr>\n",
       "  </thead>\n",
       "  <tbody>\n",
       "    <tr>\n",
       "      <th>0</th>\n",
       "      <td>T001</td>\n",
       "      <td>dei entrada na minha aposentadoria por _tempo_...</td>\n",
       "      <td>Temer_01</td>\n",
       "      <td>Q2: Private-Political</td>\n",
       "    </tr>\n",
       "    <tr>\n",
       "      <th>1</th>\n",
       "      <td>T002</td>\n",
       "      <td>prezados fiz cadastro no site de serviços inss...</td>\n",
       "      <td>Temer_01</td>\n",
       "      <td>Q1: Public-Political</td>\n",
       "    </tr>\n",
       "    <tr>\n",
       "      <th>2</th>\n",
       "      <td>T003</td>\n",
       "      <td>prezados fiz cadastro no site de serviços inss...</td>\n",
       "      <td>Temer_01</td>\n",
       "      <td>Q1: Public-Political</td>\n",
       "    </tr>\n",
       "    <tr>\n",
       "      <th>3</th>\n",
       "      <td>T004</td>\n",
       "      <td>há _meses_ tento atualizar o valor da contribu...</td>\n",
       "      <td>Temer_01</td>\n",
       "      <td>Q2: Private-Political</td>\n",
       "    </tr>\n",
       "    <tr>\n",
       "      <th>4</th>\n",
       "      <td>T005</td>\n",
       "      <td>solicito a esta autarquia que interceda junto ...</td>\n",
       "      <td>Temer_01</td>\n",
       "      <td>Q1: Public-Political</td>\n",
       "    </tr>\n",
       "  </tbody>\n",
       "</table>\n",
       "</div>"
      ],
      "text/plain": [
       "      C                                             pedido   cluster  \\\n",
       "0  T001  dei entrada na minha aposentadoria por _tempo_...  Temer_01   \n",
       "1  T002  prezados fiz cadastro no site de serviços inss...  Temer_01   \n",
       "2  T003  prezados fiz cadastro no site de serviços inss...  Temer_01   \n",
       "3  T004  há _meses_ tento atualizar o valor da contribu...  Temer_01   \n",
       "4  T005  solicito a esta autarquia que interceda junto ...  Temer_01   \n",
       "\n",
       "              validation  \n",
       "0  Q2: Private-Political  \n",
       "1   Q1: Public-Political  \n",
       "2   Q1: Public-Political  \n",
       "3  Q2: Private-Political  \n",
       "4   Q1: Public-Political  "
      ]
     },
     "execution_count": 12,
     "metadata": {},
     "output_type": "execute_result"
    }
   ],
   "source": [
    "df.head()"
   ]
  },
  {
   "cell_type": "code",
   "execution_count": 13,
   "id": "ab9b5e58-949e-4c82-b46b-8cc67353cbed",
   "metadata": {},
   "outputs": [],
   "source": [
    "df.to_csv(\"TeBoLu.csv\")"
   ]
  },
  {
   "cell_type": "code",
   "execution_count": 40,
   "id": "f5128151-87f0-4bab-b322-01105b456a29",
   "metadata": {},
   "outputs": [],
   "source": [
    "import re"
   ]
  },
  {
   "cell_type": "code",
   "execution_count": 43,
   "id": "82732f30-20e0-4771-9e79-d779fa218073",
   "metadata": {},
   "outputs": [],
   "source": [
    "new_column = []    \n",
    "for values in df['validation2']:\n",
    "    new_column.append(re.search(r'Q\\d+', values).group())\n",
    "\n",
    "df['validation3'] = new_column"
   ]
  },
  {
   "cell_type": "code",
   "execution_count": 44,
   "id": "ecac72f2-2f3d-46ea-92c1-03e73844692f",
   "metadata": {},
   "outputs": [
    {
     "data": {
      "text/html": [
       "<div>\n",
       "<style scoped>\n",
       "    .dataframe tbody tr th:only-of-type {\n",
       "        vertical-align: middle;\n",
       "    }\n",
       "\n",
       "    .dataframe tbody tr th {\n",
       "        vertical-align: top;\n",
       "    }\n",
       "\n",
       "    .dataframe thead th {\n",
       "        text-align: right;\n",
       "    }\n",
       "</style>\n",
       "<table border=\"1\" class=\"dataframe\">\n",
       "  <thead>\n",
       "    <tr style=\"text-align: right;\">\n",
       "      <th></th>\n",
       "      <th>C</th>\n",
       "      <th>Pedido</th>\n",
       "      <th>Cluster</th>\n",
       "      <th>Quadrante_Claudio</th>\n",
       "      <th>validation</th>\n",
       "      <th>validation2</th>\n",
       "      <th>validation3</th>\n",
       "    </tr>\n",
       "  </thead>\n",
       "  <tbody>\n",
       "    <tr>\n",
       "      <th>0</th>\n",
       "      <td>B117</td>\n",
       "      <td>prezados _senhores_ _boa_ _tarde_ em 18 03 201...</td>\n",
       "      <td>Bolsonaro_02</td>\n",
       "      <td>Q1</td>\n",
       "      <td>Based on the information provided in the input...</td>\n",
       "      <td>Q2: Private-Political</td>\n",
       "      <td>Q2</td>\n",
       "    </tr>\n",
       "    <tr>\n",
       "      <th>1</th>\n",
       "      <td>B138</td>\n",
       "      <td>carta n 01 2019 à chefe do postos de vigilânci...</td>\n",
       "      <td>Bolsonaro_02</td>\n",
       "      <td>Q1</td>\n",
       "      <td>Based on the information provided in the input...</td>\n",
       "      <td>Q2: Private-Political</td>\n",
       "      <td>Q2</td>\n",
       "    </tr>\n",
       "    <tr>\n",
       "      <th>2</th>\n",
       "      <td>B158</td>\n",
       "      <td>caro dnit vai continuar a execução da _br_ 080...</td>\n",
       "      <td>Bolsonaro_02</td>\n",
       "      <td>Q1</td>\n",
       "      <td>Based on the information provided in the input...</td>\n",
       "      <td>Q1: Public-Political</td>\n",
       "      <td>Q1</td>\n",
       "    </tr>\n",
       "    <tr>\n",
       "      <th>3</th>\n",
       "      <td>B163</td>\n",
       "      <td>consulto a existência _e_ em _caso_ positivo r...</td>\n",
       "      <td>Bolsonaro_02</td>\n",
       "      <td>Q1</td>\n",
       "      <td>Based on the information provided in the Input...</td>\n",
       "      <td>Q1: Public-Political</td>\n",
       "      <td>Q1</td>\n",
       "    </tr>\n",
       "    <tr>\n",
       "      <th>4</th>\n",
       "      <td>B179</td>\n",
       "      <td>prezados _boa_ _tarde_ a _lei_ n 8 666 1993 _a...</td>\n",
       "      <td>Bolsonaro_02</td>\n",
       "      <td>Q1</td>\n",
       "      <td>Based on the information provided in the input...</td>\n",
       "      <td>Q1: Public-Political</td>\n",
       "      <td>Q1</td>\n",
       "    </tr>\n",
       "  </tbody>\n",
       "</table>\n",
       "</div>"
      ],
      "text/plain": [
       "      C                                             Pedido       Cluster  \\\n",
       "0  B117  prezados _senhores_ _boa_ _tarde_ em 18 03 201...  Bolsonaro_02   \n",
       "1  B138  carta n 01 2019 à chefe do postos de vigilânci...  Bolsonaro_02   \n",
       "2  B158  caro dnit vai continuar a execução da _br_ 080...  Bolsonaro_02   \n",
       "3  B163  consulto a existência _e_ em _caso_ positivo r...  Bolsonaro_02   \n",
       "4  B179  prezados _boa_ _tarde_ a _lei_ n 8 666 1993 _a...  Bolsonaro_02   \n",
       "\n",
       "  Quadrante_Claudio                                         validation  \\\n",
       "0                Q1  Based on the information provided in the input...   \n",
       "1                Q1  Based on the information provided in the input...   \n",
       "2                Q1  Based on the information provided in the input...   \n",
       "3                Q1  Based on the information provided in the Input...   \n",
       "4                Q1  Based on the information provided in the input...   \n",
       "\n",
       "             validation2 validation3  \n",
       "0  Q2: Private-Political          Q2  \n",
       "1  Q2: Private-Political          Q2  \n",
       "2   Q1: Public-Political          Q1  \n",
       "3   Q1: Public-Political          Q1  \n",
       "4   Q1: Public-Political          Q1  "
      ]
     },
     "execution_count": 44,
     "metadata": {},
     "output_type": "execute_result"
    }
   ],
   "source": [
    "df.head()"
   ]
  },
  {
   "cell_type": "code",
   "execution_count": 45,
   "id": "d9250740-dd0e-4e2c-957b-041168684998",
   "metadata": {},
   "outputs": [],
   "source": [
    "df.to_csv(\"igm3.csv\")"
   ]
  },
  {
   "cell_type": "code",
   "execution_count": null,
   "id": "686e2fbf-dd03-4a77-95af-eb6675e3f5c3",
   "metadata": {},
   "outputs": [],
   "source": []
  }
 ],
 "metadata": {
  "kernelspec": {
   "display_name": "Python 3 (ipykernel)",
   "language": "python",
   "name": "python3"
  },
  "language_info": {
   "codemirror_mode": {
    "name": "ipython",
    "version": 3
   },
   "file_extension": ".py",
   "mimetype": "text/x-python",
   "name": "python",
   "nbconvert_exporter": "python",
   "pygments_lexer": "ipython3",
   "version": "3.10.13"
  }
 },
 "nbformat": 4,
 "nbformat_minor": 5
}
